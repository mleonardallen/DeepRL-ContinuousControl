{
 "cells": [
  {
   "cell_type": "markdown",
   "metadata": {},
   "source": [
    "# Continuous Control\n",
    "\n",
    "---\n",
    "\n",
    "In this notebook, you will learn how to use the Unity ML-Agents environment for the second project of the [Deep Reinforcement Learning Nanodegree](https://www.udacity.com/course/deep-reinforcement-learning-nanodegree--nd893) program.\n",
    "\n",
    "### 1. Start the Environment\n",
    "\n",
    "We begin by importing the necessary packages.  If the code cell below returns an error, please revisit the project instructions to double-check that you have installed [Unity ML-Agents](https://github.com/Unity-Technologies/ml-agents/blob/master/docs/Installation.md) and [NumPy](http://www.numpy.org/)."
   ]
  },
  {
   "cell_type": "code",
   "execution_count": 7,
   "metadata": {},
   "outputs": [
    {
     "name": "stdout",
     "output_type": "stream",
     "text": [
      "The autoreload extension is already loaded. To reload it, use:\n",
      "  %reload_ext autoreload\n"
     ]
    }
   ],
   "source": [
    "%load_ext autoreload\n",
    "%autoreload 2\n",
    "\n",
    "from unityagents import UnityEnvironment\n",
    "import numpy as np\n",
    "import torch\n",
    "from torch import nn\n",
    "import torch.nn.functional as F\n",
    "from collections import deque\n",
    "import random\n",
    "import torch.optim as optim\n",
    "from torchsummary import summary\n",
    "import matplotlib.pyplot as plt\n",
    "from itertools import accumulate\n",
    "from operator import itemgetter\n",
    "\n",
    "import env_utils"
   ]
  },
  {
   "cell_type": "markdown",
   "metadata": {},
   "source": [
    "Next, we will start the environment!  **_Before running the code cell below_**, change the `file_name` parameter to match the location of the Unity environment that you downloaded.\n",
    "\n",
    "- **Mac**: `\"path/to/Reacher.app\"`\n",
    "- **Windows** (x86): `\"path/to/Reacher_Windows_x86/Reacher.exe\"`\n",
    "- **Windows** (x86_64): `\"path/to/Reacher_Windows_x86_64/Reacher.exe\"`\n",
    "- **Linux** (x86): `\"path/to/Reacher_Linux/Reacher.x86\"`\n",
    "- **Linux** (x86_64): `\"path/to/Reacher_Linux/Reacher.x86_64\"`\n",
    "- **Linux** (x86, headless): `\"path/to/Reacher_Linux_NoVis/Reacher.x86\"`\n",
    "- **Linux** (x86_64, headless): `\"path/to/Reacher_Linux_NoVis/Reacher.x86_64\"`\n",
    "\n",
    "For instance, if you are using a Mac, then you downloaded `Reacher.app`.  If this file is in the same folder as the notebook, then the line below should appear as follows:\n",
    "```\n",
    "env = UnityEnvironment(file_name=\"Reacher.app\")\n",
    "```"
   ]
  },
  {
   "cell_type": "code",
   "execution_count": 2,
   "metadata": {},
   "outputs": [
    {
     "name": "stderr",
     "output_type": "stream",
     "text": [
      "INFO:unityagents:\n",
      "'Academy' started successfully!\n",
      "Unity Academy name: Academy\n",
      "        Number of Brains: 1\n",
      "        Number of External Brains : 1\n",
      "        Lesson number : 0\n",
      "        Reset Parameters :\n",
      "\t\tgoal_speed -> 1.0\n",
      "\t\tgoal_size -> 5.0\n",
      "Unity brain name: ReacherBrain\n",
      "        Number of Visual Observations (per agent): 0\n",
      "        Vector Observation space type: continuous\n",
      "        Vector Observation space size (per agent): 33\n",
      "        Number of stacked Vector Observation: 1\n",
      "        Vector Action space type: continuous\n",
      "        Vector Action space size (per agent): 4\n",
      "        Vector Action descriptions: , , , \n"
     ]
    }
   ],
   "source": [
    "env = UnityEnvironment(file_name=\"Reacher.app\", no_graphics=False)"
   ]
  },
  {
   "cell_type": "markdown",
   "metadata": {},
   "source": [
    "Environments contain **_brains_** which are responsible for deciding the actions of their associated agents. Here we check for the first brain available, and set it as the default brain we will be controlling from Python."
   ]
  },
  {
   "cell_type": "code",
   "execution_count": 8,
   "metadata": {},
   "outputs": [],
   "source": [
    "# get the default brain\n",
    "brain_name = env.brain_names[0]\n",
    "brain = env.brains[brain_name]"
   ]
  },
  {
   "cell_type": "markdown",
   "metadata": {},
   "source": [
    "### 2. Examine the State and Action Spaces\n",
    "\n",
    "In this environment, a double-jointed arm can move to target locations. A reward of `+0.1` is provided for each step that the agent's hand is in the goal location. Thus, the goal of your agent is to maintain its position at the target location for as many time steps as possible.\n",
    "\n",
    "The observation space consists of `33` variables corresponding to position, rotation, velocity, and angular velocities of the arm.  Each action is a vector with four numbers, corresponding to torque applicable to two joints.  Every entry in the action vector must be a number between `-1` and `1`.\n",
    "\n",
    "Run the code cell below to print some information about the environment."
   ]
  },
  {
   "cell_type": "code",
   "execution_count": 9,
   "metadata": {},
   "outputs": [
    {
     "name": "stdout",
     "output_type": "stream",
     "text": [
      "Number of agents: 20\n",
      "Size of each action: 4\n",
      "There are 20 agents. Each observes a state with length: 33\n",
      "The state for the first agent looks like: [ 0.00000000e+00 -4.00000000e+00  0.00000000e+00  1.00000000e+00\n",
      " -0.00000000e+00 -0.00000000e+00 -4.37113883e-08  0.00000000e+00\n",
      "  0.00000000e+00  0.00000000e+00  0.00000000e+00  0.00000000e+00\n",
      "  0.00000000e+00  0.00000000e+00 -1.00000000e+01  0.00000000e+00\n",
      "  1.00000000e+00 -0.00000000e+00 -0.00000000e+00 -4.37113883e-08\n",
      "  0.00000000e+00  0.00000000e+00  0.00000000e+00  0.00000000e+00\n",
      "  0.00000000e+00  0.00000000e+00  5.75471878e+00 -1.00000000e+00\n",
      "  5.55726624e+00  0.00000000e+00  1.00000000e+00  0.00000000e+00\n",
      " -1.68164849e-01]\n"
     ]
    }
   ],
   "source": [
    "# reset the environment\n",
    "env_info = env.reset(train_mode=True)[brain_name]\n",
    "\n",
    "# number of agents\n",
    "num_agents = len(env_info.agents)\n",
    "print('Number of agents:', num_agents)\n",
    "\n",
    "# size of each action\n",
    "action_size = brain.vector_action_space_size\n",
    "print('Size of each action:', action_size)\n",
    "\n",
    "# examine the state space \n",
    "states = env_info.vector_observations\n",
    "state_size = states.shape[1]\n",
    "print('There are {} agents. Each observes a state with length: {}'.format(states.shape[0], state_size))\n",
    "print('The state for the first agent looks like:', states[0])"
   ]
  },
  {
   "cell_type": "markdown",
   "metadata": {},
   "source": [
    "### 3. Take Random Actions in the Environment\n",
    "\n",
    "In the next code cell, you will learn how to use the Python API to control the agent and receive feedback from the environment.\n",
    "\n",
    "Once this cell is executed, you will watch the agent's performance, if it selects an action at random with each time step.  A window should pop up that allows you to observe the agent, as it moves through the environment.  \n",
    "\n",
    "Of course, as part of the project, you'll have to change the code so that the agent is able to use its experience to gradually choose better actions when interacting with the environment!"
   ]
  },
  {
   "cell_type": "code",
   "execution_count": 9,
   "metadata": {},
   "outputs": [
    {
     "name": "stdout",
     "output_type": "stream",
     "text": [
      "Total score (averaged over agents) this episode: 0.12099999729543924\n"
     ]
    }
   ],
   "source": [
    "env_info = env.reset(train_mode=False)[brain_name]     # reset the environment    \n",
    "states = env_info.vector_observations                  # get the current state (for each agent)\n",
    "scores = np.zeros(num_agents)                          # initialize the score (for each agent)\n",
    "while True:\n",
    "    actions = np.random.randn(num_agents, action_size) # select an action (for each agent)\n",
    "    actions = np.clip(actions, -1, 1)                  # all actions between -1 and 1\n",
    "    env_info = env.step(actions)[brain_name]           # send all actions to tne environment\n",
    "    next_states = env_info.vector_observations         # get next state (for each agent)\n",
    "    rewards = env_info.rewards                         # get reward (for each agent)\n",
    "    dones = env_info.local_done                        # see if episode finished\n",
    "    scores += env_info.rewards                         # update the score (for each agent)\n",
    "    states = next_states                               # roll over states to next time step\n",
    "    if np.any(dones):                                  # exit loop if episode finished\n",
    "        break\n",
    "print('Total score (averaged over agents) this episode: {}'.format(np.mean(scores)))"
   ]
  },
  {
   "cell_type": "markdown",
   "metadata": {},
   "source": [
    "### 4. Choose a learning Algorithm\n",
    "\n",
    "For [Project 1: Navigation](https://github.com/mleonardallen/nd893-p1-navigation), I leveraged the [DQN Algorithm](https://arxiv.org/abs/1312.5602).\n",
    "\n",
    "> We present the first deep learning model to successfully learn control policies directly from high-dimensional sensory input using reinforcement learning. The model is a convolutional neural network, trained with a variant of Q-learning, whose input is raw pixels and whose output is a value function estimating future rewards. We apply our method to seven Atari 2600 games from the Arcade Learning Environment, with no adjustment of the architecture or learning algorithm. We find that it outperforms all previous approaches on six of the games and surpasses a human expert on three of them.\n",
    "\n",
    "DQN is a value based approach, seeking the optimal `action-value` function.  Performing an action with value based approaches involves an `argmax` operation to find the action with the highest value.  However, the `Reacher` environment has a `continuous action space`, and value based approaches are not suited to continuous action spaces because of this argmax operation.\n",
    "\n",
    "We could potentially discretize the action space, but I don't think this will be effective.  Each action is a vector with four numbers, corresponding to torque applicable to two joints. Every entry in the action vector must be a number between -1 and 1.  Even with a small amount of granularity in torque values produces a large number of possible actions.\n",
    "\n",
    "| Torque Values | Actions |\n",
    "| -- | -- |\n",
    "| -1.0, -0.5, 0.0, 0.5, 1.0 | 625 |\n",
    "| -1.0, -0.75, -0.5, -0.25, 0.0, 0.25, 0.5, 0.75, 1.0 | 6,561 |\n",
    "\n",
    "Because of the limitations of values based methods for continues action spaces, I think we need to use a policy based approach for the Reacher environment.  Policy based approaches seek to estimate the optimal policy directly, and therefore we don't run into this argmax issue that we have with value based approaches.\n",
    "\n",
    "To begin, I'm going to keep it very simple using the [REINFORCE Algorithm](https://citeseerx.ist.psu.edu/viewdoc/summary?doi=10.1.1.129.8871).  REINFORCE shows us how to adjust parameters so that good actions are more probable and bad actions are less probable.  Likely, this algorithm will do poorly with this environment, but we can see the results and add improvements as we go. The REINFORCE algorithm is summarized below.\n",
    "\n",
    "1. Use the policy $\\pi_\\theta$ to collect $m$ trajectories {$\\tau^{(1)},\\tau^{(2)},\\dots,\\tau^{(m)}$} with horizon $H$.  We refer to the $i$-th trajectory as \n",
    "\n",
    "    $\\tau^{(i)} = (s^{(i)}_0, a^{(i)}_0,\\dots,s^{(i)}_H, a^{(i)}_H,s^{(i)}_{H+1})$\n",
    "\n",
    "\n",
    "2. Use the trajectories to estimate the gradient $\\nabla_\\theta U(\\theta)$:\n",
    "\n",
    "    $\\nabla_\\theta U(\\theta) \\approx \\hat{g} := \\frac1m\\sum_{i=1}^m\\sum_{t=0}^H\\nabla_\\theta log\\pi_\\theta(a_t^{(i)}|s_t^{(i)}R(\\tau^{(i)})$\n",
    "\n",
    "\n",
    "3. Update the weights of the policy:\n",
    "\n",
    "    $\\theta \\leftarrow \\theta + \\alpha\\hat{g}$\n",
    "\n",
    "\n",
    "4. Loop over steps 1-3"
   ]
  },
  {
   "cell_type": "markdown",
   "metadata": {},
   "source": [
    "### 5. Replace the Random Actions with Random Actions 🙃\n",
    "\n",
    "<img align=\"right\" alt=\"tanh\" title=\"tanh\" src=\"img/tanh.png\" width=\"250\"/>\n",
    "\n",
    "Since this is my first project involving continuous actions spaces, I want to build the project step by step, until I have an agent that can efficiently learn and solve the environment.\n",
    "\n",
    "First, I just want to replace the random actions produced by `np.random.randn` with a neural network that outputs random actions.  The actions are random because the network is untrained.  Theoretically though, the trained network could produce optimal actions.\n",
    "\n",
    "Note: The output layer uses [tanh](https://ml-cheatsheet.readthedocs.io/en/latest/activation_functions.html#tanh) to produce the desired torque application values (-1, 1)."
   ]
  },
  {
   "cell_type": "code",
   "execution_count": 10,
   "metadata": {},
   "outputs": [
    {
     "name": "stdout",
     "output_type": "stream",
     "text": [
      "----------------------------------------------------------------\n",
      "        Layer (type)               Output Shape         Param #\n",
      "================================================================\n",
      "            Linear-1                [-1, 1, 64]           2,176\n",
      "            Linear-2                [-1, 1, 64]           4,160\n",
      "            Linear-3                 [-1, 1, 4]             260\n",
      "================================================================\n",
      "Total params: 6,596\n",
      "Trainable params: 6,596\n",
      "Non-trainable params: 0\n",
      "----------------------------------------------------------------\n",
      "Input size (MB): 0.00\n",
      "Forward/backward pass size (MB): 0.00\n",
      "Params size (MB): 0.03\n",
      "Estimated Total Size (MB): 0.03\n",
      "----------------------------------------------------------------\n"
     ]
    }
   ],
   "source": [
    "class Network(nn.Module):\n",
    "\n",
    "    def __init__(self, input_size, output_size, hidden_layers):\n",
    "        super().__init__()\n",
    "        self.layers = nn.ModuleList([nn.Linear(input_size, hidden_layers[0])])\n",
    "        self.layers.extend([nn.Linear(i, o) for i, o in zip(hidden_layers[:-1], hidden_layers[1:])])\n",
    "        self.output = nn.Linear(hidden_layers[-1], output_size)\n",
    "\n",
    "    def forward(self, x):\n",
    "        for i, layer in enumerate(self.layers):\n",
    "            x = F.elu(layer(x))\n",
    "        return torch.tanh(self.output(x))\n",
    "\n",
    "policy = Network(state_size, action_size, [64, 64])\n",
    "summary(policy, (1, state_size))"
   ]
  },
  {
   "cell_type": "code",
   "execution_count": 11,
   "metadata": {},
   "outputs": [
    {
     "name": "stdout",
     "output_type": "stream",
     "text": [
      "Total score (averaged over agents) this episode: 0.4599999897181988\n"
     ]
    }
   ],
   "source": [
    "env_info = env.reset(train_mode=False)[brain_name]\n",
    "states = env_info.vector_observations\n",
    "scores = np.zeros(num_agents)\n",
    "\n",
    "while True:\n",
    "    actions = policy(torch.from_numpy(states).float()).detach().numpy() # actions come from network\n",
    "    env_info = env.step(actions)[brain_name]\n",
    "    next_states = env_info.vector_observations\n",
    "    rewards = env_info.rewards\n",
    "    dones = env_info.local_done\n",
    "    scores += env_info.rewards\n",
    "    states = next_states\n",
    "    if np.any(dones):\n",
    "        break\n",
    "\n",
    "print('Total score (averaged over agents) this episode: {}'.format(np.mean(scores)))"
   ]
  },
  {
   "cell_type": "markdown",
   "metadata": {},
   "source": [
    "<img src=\"img/random.gif\" />\n",
    "\n",
    "The 20 agent environment is a bit overwhelming visually, but we can see that the agent behavior is quite random, and we can tell agent is not doing that well.  Bright green indicates the  agent's hand is in the goal location."
   ]
  },
  {
   "cell_type": "markdown",
   "metadata": {},
   "source": [
    "### 6. Update the Network to work with REINFORCE\n",
    "\n",
    "<img align=\"right\" alt=\"tanh\" title=\"tanh\" src=\"img/softplus.png\" width=\"250\"/>\n",
    "\n",
    "REINFORCE shows us how to adjust parameters so that good actions are more probable and bad actions are less probable.  To achieve this, the network needs to output probabilities, and currently the network only outputs actions.\n",
    "\n",
    "I make a small tweak to the network so that it returns the action AND probabiliy of taking that action.  The original output becomes the `mean` and I use that mean to create a `normal distribution`.\n",
    "\n",
    "Note: When creating the normal distribution I use a [softplus](https://en.wikipedia.org/wiki/Rectifier_(neural_networks)) operation.  This is because standard deviations cannot be negative."
   ]
  },
  {
   "cell_type": "code",
   "execution_count": 10,
   "metadata": {},
   "outputs": [
    {
     "name": "stdout",
     "output_type": "stream",
     "text": [
      "----------------------------------------------------------------\n",
      "        Layer (type)               Output Shape         Param #\n",
      "================================================================\n",
      "            Linear-1                [-1, 1, 64]           2,176\n",
      "            Linear-2                [-1, 1, 64]           4,160\n",
      "            Linear-3                 [-1, 1, 4]             260\n",
      "================================================================\n",
      "Total params: 6,596\n",
      "Trainable params: 6,596\n",
      "Non-trainable params: 0\n",
      "----------------------------------------------------------------\n",
      "Input size (MB): 0.00\n",
      "Forward/backward pass size (MB): 0.00\n",
      "Params size (MB): 0.03\n",
      "Estimated Total Size (MB): 0.03\n",
      "----------------------------------------------------------------\n"
     ]
    }
   ],
   "source": [
    "class Network(nn.Module):\n",
    "\n",
    "    def __init__(self, input_size, output_size, hidden_layers):\n",
    "        super().__init__()\n",
    "        self.layers = nn.ModuleList([nn.Linear(input_size, hidden_layers[0])])\n",
    "        self.layers.extend([nn.Linear(i, o) for i, o in zip(hidden_layers[:-1], hidden_layers[1:])])\n",
    "        self.output = nn.Linear(hidden_layers[-1], output_size)\n",
    "        self.std = nn.Parameter(torch.zeros(output_size)) # parameter for standard deviation\n",
    "    \n",
    "    def forward(self, x, action=None):\n",
    "        for i, layer in enumerate(self.layers):\n",
    "            x = F.elu(layer(x))\n",
    "        mean = torch.tanh(self.output(x)) # original output becomes mean of distribution\n",
    "        dist = torch.distributions.Normal(mean, F.softplus(self.std)) # create distribution with mean, std\n",
    "        if action is None:\n",
    "            action = dist.sample() # action sampled from distribution\n",
    "        log_prob = dist.log_prob(action) # probabilities required for REINFORCE\n",
    "        entropy = dist.entropy()\n",
    "        return {'mean': mean, 'action': action, 'log_prob': log_prob, 'entropy': entropy}\n",
    "\n",
    "policy = Network(state_size, action_size, [64, 64])\n",
    "summary(policy, (1, state_size)) # summary is not including std ¯\\_(ツ)_/¯"
   ]
  },
  {
   "cell_type": "markdown",
   "metadata": {},
   "source": [
    "### 7. Build the REINFORCE Agent\n",
    "\n",
    "I impliment the REINFORCE algorithm below.  For the Reacher environment, I do not think REINFORCE can learn a decent policy, but let's check it out and see how it performs.\n",
    "\n",
    "Note: At this point, I extracted out main loop into a `env_utils` file because I just want to focus on the details of the algorithm here."
   ]
  },
  {
   "cell_type": "code",
   "execution_count": 13,
   "metadata": {},
   "outputs": [],
   "source": [
    "class Agent():\n",
    "    \n",
    "    def __init__(self, config):\n",
    "        self.config = config\n",
    "        self.policy = Network(state_size, action_size, [64, 64])\n",
    "        self.optimizer = optim.Adam(self.policy.parameters(), lr=5e-4)\n",
    "        self.storage = []\n",
    "    \n",
    "    def act(self, states):\n",
    "        return self.policy(torch.from_numpy(states).float())\n",
    "    \n",
    "    def step(self, states, actions, rewards, next_states, dones):\n",
    "        \n",
    "        self.storage.append((actions['log_prob'], rewards))\n",
    "        if np.any(dones):\n",
    "            self.learn()\n",
    "            \n",
    "    def learn(self):\n",
    "        log_probs, rewards = zip(*self.storage)\n",
    "        log_probs = torch.stack(log_probs)\n",
    "\n",
    "        \"\"\" Sum Rewards\n",
    "        Pretend Example: 4 agents, each with a trajectory over 3 time steps\n",
    "        \n",
    "            axis=0\n",
    "              ↓ \n",
    "            [[1, 0, 0, 0], t=0\n",
    "             [1, 0, 1, 0], t=1\n",
    "             [1, 0, 1, 1]] t=2\n",
    "             ------------\n",
    "        sum: [3, 0, 2, 1]\n",
    "        \n",
    "        \"\"\"\n",
    "        R = np.sum(rewards, axis=0)[:,np.newaxis]\n",
    "        R = torch.from_numpy(R).float()\n",
    "\n",
    "        policy_loss = torch.mean(-log_probs * R) # negative because optimizer uses gradient descent\n",
    "\n",
    "        self.optimizer.zero_grad()\n",
    "        policy_loss.backward()\n",
    "        self.optimizer.step()\n",
    "\n",
    "        self.storage = []"
   ]
  },
  {
   "cell_type": "code",
   "execution_count": 14,
   "metadata": {},
   "outputs": [
    {
     "name": "stdout",
     "output_type": "stream",
     "text": [
      "Episode: 25, Total score (averaged over agents): 1.1199999749660492\n",
      "Episode: 50, Total score (averaged over agents): 1.3569999696686863\n",
      "Episode: 75, Total score (averaged over agents): 1.1334999746643006\n",
      "Episode: 100, Total score (averaged over agents): 1.2654999717138709\n",
      "Episode: 125, Total score (averaged over agents): 1.3549999697133899\n",
      "Episode: 150, Total score (averaged over agents): 1.398499968741089\n",
      "Episode: 175, Total score (averaged over agents): 1.1274999747984111\n",
      "Episode: 200, Total score (averaged over agents): 1.23149997247383\n",
      "Episode: 225, Total score (averaged over agents): 1.0889999756589532\n",
      "Episode: 250, Total score (averaged over agents): 1.3504999698139728\n",
      "Episode: 275, Total score (averaged over agents): 1.4299999680370092\n",
      "Episode: 300, Total score (averaged over agents): 1.069499976094812\n",
      "Episode: 325, Total score (averaged over agents): 1.192499973345548\n",
      "Episode: 350, Total score (averaged over agents): 0.99899997767061\n",
      "Episode: 375, Total score (averaged over agents): 1.0864999757148326\n",
      "Episode: 400, Total score (averaged over agents): 1.4194999682717024\n",
      "Episode: 425, Total score (averaged over agents): 1.6004999642260374\n",
      "Episode: 450, Total score (averaged over agents): 1.6014999642036856\n",
      "Episode: 475, Total score (averaged over agents): 1.2569999719038605\n",
      "Episode: 500, Total score (averaged over agents): 1.5709999648854136\n"
     ]
    },
    {
     "data": {
      "image/png": "[encoded data removed]",
      "text/plain": [
       "<Figure size 432x288 with 1 Axes>"
      ]
     },
     "metadata": {
      "needs_background": "light"
     },
     "output_type": "display_data"
    }
   ],
   "source": [
    "config = {}\n",
    "config['env'] = env\n",
    "config['print_every'] = 25\n",
    "config['plot_every'] = 10\n",
    "config['episodes'] = 500\n",
    "agent = Agent(config)\n",
    "env_utils.run(agent)\n",
    "torch.save(agent.policy.state_dict(), 'checkpoints/REINFORCE-1.pth')"
   ]
  },
  {
   "cell_type": "code",
   "execution_count": 8,
   "metadata": {},
   "outputs": [],
   "source": [
    "config = {}\n",
    "config['env'] = env\n",
    "config['train_mode'] = False\n",
    "agent = Agent(config)\n",
    "checkpoint = torch.load('checkpoints/REINFORCE-1.pth')\n",
    "agent.policy.load_state_dict(checkpoint)\n",
    "env_utils.run(agent)"
   ]
  },
  {
   "cell_type": "markdown",
   "metadata": {},
   "source": [
    "<img src=\"img/REINFORCE-1.gif\" />\n",
    "\n",
    "Updates appear to be very noisy, and the average reward is very low even after training for 500 episides. When I watch the agent, it's clear that agent is barely doing better than taking random actions."
   ]
  },
  {
   "cell_type": "markdown",
   "metadata": {},
   "source": [
    "### 8. REINFORCE Improvements\n",
    "\n",
    "What are the main problems of REINFORCE? There are three issues:\n",
    "\n",
    "1. The update process is very inefficient! We run the policy once, update once, and then throw away the trajectory.\n",
    "\n",
    "2. The gradient estimate $\\hat{g}$ is very noisy. By chance the collected trajectory may not be representative of the policy.\n",
    "\n",
    "3. There is no clear credit assignment. A trajectory may contain many good/bad actions and whether these actions are reinforced depends only on the final total output."
   ]
  },
  {
   "cell_type": "code",
   "execution_count": 15,
   "metadata": {},
   "outputs": [],
   "source": [
    "class Agent():\n",
    "    \n",
    "    def __init__(self, config):\n",
    "        self.config = config\n",
    "        self.gamma = 0.99\n",
    "        self.beta = 0.01 # entropy regularization\n",
    "        self.beta_decay = 0.995\n",
    "        self.policy = Network(state_size, action_size, [64, 64])\n",
    "        self.optimizer = optim.Adam(self.policy.parameters(), lr=5e-4)\n",
    "        self.storage = []\n",
    "        \n",
    "    def act(self, states):\n",
    "        return self.policy(torch.from_numpy(states).float())\n",
    "    \n",
    "    def step(self, states, actions, rewards, next_states, dones):\n",
    "        self.storage.append((actions['log_prob'], actions['entropy'], rewards))\n",
    "        if np.any(dones):\n",
    "            self.learn()\n",
    "\n",
    "    def learn(self):\n",
    "        log_probs, entropy, rewards = zip(*self.storage)\n",
    "        log_probs = torch.stack(log_probs)\n",
    "        entropy = torch.stack(entropy)\n",
    "\n",
    "        \"\"\" Clear Credit Assignment: Discounted Future Rewards\n",
    "        Note: arr[::-1] is just syntax to reverse an array.\n",
    "        Calculating the discounted future reward is easier starting at the end.\n",
    "        \"\"\"\n",
    "        accumulate_fn = lambda acc,r: r+self.gamma*np.asarray(acc)\n",
    "        R = np.array(list(accumulate(rewards[::-1], accumulate_fn)))[::-1]\n",
    "        \n",
    "        \"\"\" Less Noisy: Normalize Rewards\n",
    "        Batch normalization is a technique for improving the speed, performance, and stability of a network.\n",
    "        https://en.wikipedia.org/wiki/Batch_normalization\n",
    "\n",
    "        Before normalizing, rewards were all positive for the Reacher environment.\n",
    "        The normalized distribution, with μ = 0, produces both positive and negative rewards.\n",
    "        Perhaps this lack of negative reward made it difficult to decrease probabilities of bad actions.\n",
    "        \"\"\"\n",
    "        R = (R - np.mean(R))/np.std(R)\n",
    "        R = torch.from_numpy(R.copy()).float().unsqueeze(2)\n",
    "\n",
    "        \"\"\" Entropy Regularization to Encourage Exploration\n",
    "        On-policy Reinforcement Learning with Entropy Regularization\n",
    "        https://arxiv.org/abs/1912.01557\n",
    "        \"\"\"\n",
    "        policy_loss = torch.mean(-log_probs * R - self.beta * entropy)\n",
    "\n",
    "        self.optimizer.zero_grad()\n",
    "        policy_loss.backward()\n",
    "        self.optimizer.step()\n",
    "        \n",
    "        self.beta *= self.beta_decay\n",
    "        self.storage = []"
   ]
  },
  {
   "cell_type": "code",
   "execution_count": 16,
   "metadata": {},
   "outputs": [
    {
     "name": "stdout",
     "output_type": "stream",
     "text": [
      "Episode: 25, Total score (averaged over agents): 1.6944999621249734\n",
      "Episode: 50, Total score (averaged over agents): 2.187499951105565\n",
      "Episode: 75, Total score (averaged over agents): 2.3834999467246236\n",
      "Episode: 100, Total score (averaged over agents): 3.497499921824783\n",
      "Episode: 125, Total score (averaged over agents): 3.861999913677573\n",
      "Episode: 150, Total score (averaged over agents): 3.945499911811203\n",
      "Episode: 175, Total score (averaged over agents): 4.359999902546406\n",
      "Episode: 200, Total score (averaged over agents): 5.460499877948314\n",
      "Episode: 225, Total score (averaged over agents): 5.594999874942005\n",
      "Episode: 250, Total score (averaged over agents): 7.093999841436744\n",
      "Episode: 275, Total score (averaged over agents): 6.34999985806644\n",
      "Episode: 300, Total score (averaged over agents): 7.918499823007733\n",
      "Episode: 325, Total score (averaged over agents): 7.9799998216331005\n",
      "Episode: 350, Total score (averaged over agents): 8.39149981243536\n",
      "Episode: 375, Total score (averaged over agents): 9.046499797794969\n",
      "Episode: 400, Total score (averaged over agents): 9.637499784585088\n",
      "Episode: 425, Total score (averaged over agents): 9.396999789960683\n",
      "Episode: 450, Total score (averaged over agents): 10.479499765764922\n",
      "Episode: 475, Total score (averaged over agents): 10.866499757114799\n",
      "Episode: 500, Total score (averaged over agents): 10.501499765273184\n"
     ]
    },
    {
     "data": {
      "image/png": "[encoded data removed]",
      "text/plain": [
       "<Figure size 432x288 with 1 Axes>"
      ]
     },
     "metadata": {
      "needs_background": "light"
     },
     "output_type": "display_data"
    }
   ],
   "source": [
    "config = {}\n",
    "config['env'] = env\n",
    "config['print_every'] = 25\n",
    "config['plot_every'] = 10\n",
    "config['episodes'] = 500\n",
    "agent = Agent(config)\n",
    "env_utils.run(agent)\n",
    "torch.save(agent.policy.state_dict(), 'checkpoints/REINFORCE-2.pth')"
   ]
  },
  {
   "cell_type": "code",
   "execution_count": 112,
   "metadata": {},
   "outputs": [],
   "source": [
    "config = {}\n",
    "config['env'] = env\n",
    "config['train_mode'] = False\n",
    "agent = Agent(config)\n",
    "checkpoint = torch.load('checkpoints/REINFORCE-2.pth')\n",
    "agent.policy.load_state_dict(checkpoint)\n",
    "env_utils.run(agent)"
   ]
  },
  {
   "cell_type": "markdown",
   "metadata": {},
   "source": [
    "<img src=\"img/REINFORCE-2.gif?2\" />\n",
    "\n",
    "The agent learned some strategies!  It's doing a bit better than the first iteration of REINFORCE, but it's taking a long time to train, and I can still see long ways to go before they agent performs optimially."
   ]
  },
  {
   "cell_type": "markdown",
   "metadata": {},
   "source": [
    "### 9. Proximal Policy Optimization (PPO)\n",
    "\n",
    "The updates to REINFORCE improved learning, but the agent is still taking a long time to learn the environment.  Recall one issue with REINFORCE is the update process is very inefficient! We run the policy once, update once, and then throw away the trajectory.\n",
    "\n",
    "To tackle this issue, I impliment the [PPO algorithm](https://arxiv.org/abs/1707.06347).\n",
    "\n",
    "> We propose a new family of policy gradient methods for reinforcement learning, which alternate between sampling data through interaction with the environment, and optimizing a \"surrogate\" objective function using stochastic gradient ascent. Whereas standard policy gradient methods perform one gradient update per data sample, we propose a novel objective function that enables multiple epochs of minibatch updates. The new methods, which we call proximal policy optimization (PPO), have some of the benefits of trust region policy optimization (TRPO), but they are much simpler to implement, more general, and have better sample complexity (empirically). Our experiments test PPO on a collection of benchmark tasks, including simulated robotic locomotion and Atari game playing, and we show that PPO outperforms other online policy gradient methods, and overall strikes a favorable balance between sample complexity, simplicity, and wall-time.\n",
    "\n",
    "\n",
    "The PPO algorithm is summarized below.\n",
    "\n",
    "1. First, collect some trajectories based on some policy $\\pi_{\\theta}$, and initialize theta prime $\\theta'=\\theta$\n",
    "2. Next, compute the gradient of the clipped surrogate function using the trajectories\n",
    "3. Update $\\theta'$ using gradient ascent $\\theta'\\leftarrow\\theta' +\\alpha \\nabla_{\\theta'}L_{\\rm sur}^{\\rm clip}(\\theta', \\theta)$\n",
    "4. Then we repeat step 2-3 without generating new trajectories. Typically, step 2-3 are only repeated a few times\n",
    "5. Set $\\theta=\\theta'$, go back to step 1, repeat.\n",
    "\n",
    "The clipped surrogate function is given by\n",
    "$\\frac{1}{T}\\sum^T_t \\min\\left\\{R_{t}^{\\rm future}\\frac{\\pi_{\\theta'}(a_t|s_t)}{\\pi_{\\theta}(a_t|s_t)},R_{t}^{\\rm future}{\\rm clip}_{\\epsilon}\\!\\left(\\frac{\\pi_{\\theta'}(a_t|s_t)}{\\pi_{\\theta}(a_t|s_t)}\\right)\\right\\}$"
   ]
  },
  {
   "cell_type": "code",
   "execution_count": 4,
   "metadata": {},
   "outputs": [],
   "source": [
    "class Agent():\n",
    "    \n",
    "    def __init__(self, config):\n",
    "        self.config = config\n",
    "        self.gamma = 0.99\n",
    "        self.beta = 0.01\n",
    "        self.beta_decay = 0.995\n",
    "        self.epsilon = 0.1 # parameter used for clipping\n",
    "        self.sgd_epoch = 8 # number of times to use the trajectories\n",
    "        self.policy = Network(state_size, action_size, [64, 64])\n",
    "        self.optimizer = optim.Adam(self.policy.parameters(), lr=5e-4)\n",
    "        self.storage = []\n",
    "        \n",
    "    def act(self, states):\n",
    "        return self.policy(torch.from_numpy(states).float())\n",
    "    \n",
    "    def step(self, states, actions, rewards, next_states, dones):\n",
    "        self.storage.append((states, actions['action'], actions['log_prob'], rewards))\n",
    "        if np.any(dones):\n",
    "            self.learn()\n",
    "\n",
    "    def learn(self):\n",
    "        states, actions, log_probs, rewards = zip(*self.storage)\n",
    "        states = torch.from_numpy(np.asarray(states)).float()\n",
    "        actions = torch.stack(actions)\n",
    "        log_probs = torch.stack(log_probs).detach() # NOTE: detach because we only update current gradient\n",
    "        \n",
    "        accumulate_fn = lambda acc,r: r+self.gamma*np.asarray(acc)\n",
    "        R = np.array(list(accumulate(rewards[::-1], accumulate_fn)))[::-1]\n",
    "        R = (R - np.mean(R))/np.std(R)\n",
    "        R = torch.from_numpy(R.copy()).float().unsqueeze(2)  \n",
    "\n",
    "        for e in range(self.sgd_epoch):\n",
    "\n",
    "            prediction = self.policy(states, actions)\n",
    "\n",
    "            \"\"\" Calculate the Ratio\n",
    "            Although the PPO algoritm indicates the use of a ratio, here I use log probabilities. \n",
    "            The quotient rule for logarithms:  𝑙𝑜𝑔_b(𝑛/𝑚) = 𝑙𝑜𝑔_𝑏(𝑛) − 𝑙𝑜𝑔_𝑏(𝑚)\n",
    "            Therefore: 𝑒^(log_e(𝜋𝜃′) − log_e(𝜋𝜃)) = 𝜋𝜃′/𝜋𝜃\n",
    "            \"\"\" \n",
    "            ratio = (prediction['log_prob'] - log_probs).exp()\n",
    "\n",
    "            \"\"\" The clip function is implemented in pytorch as\n",
    "            torch.clamp(ratio, 1-epsilon, 1+epsilon)\n",
    "            https://pytorch.org/docs/stable/torch.html#torch.clamp\n",
    "            \"\"\"\n",
    "            obj = ratio\n",
    "            obj_clipped = ratio.clamp(1.0 - self.epsilon, 1.0 + self.epsilon)\n",
    "\n",
    "            L = -torch.min(obj * R, obj_clipped * R).mean() - self.beta * prediction['entropy'].mean()\n",
    "\n",
    "            self.optimizer.zero_grad()\n",
    "            L.backward()\n",
    "            self.optimizer.step()\n",
    "            del L\n",
    "\n",
    "        self.beta *= self.beta_decay\n",
    "        self.storage = []"
   ]
  },
  {
   "cell_type": "code",
   "execution_count": 18,
   "metadata": {},
   "outputs": [
    {
     "name": "stdout",
     "output_type": "stream",
     "text": [
      "Episode: 25, Total score (averaged over agents): 2.4959999442100527\n",
      "Episode: 50, Total score (averaged over agents): 4.243499905150384\n",
      "Episode: 75, Total score (averaged over agents): 6.068999864347279\n",
      "Episode: 100, Total score (averaged over agents): 8.074499819520861\n",
      "Episode: 125, Total score (averaged over agents): 9.487999787926674\n",
      "Episode: 150, Total score (averaged over agents): 9.599499785434455\n",
      "Episode: 175, Total score (averaged over agents): 8.74399980455637\n",
      "Episode: 200, Total score (averaged over agents): 10.43199976682663\n",
      "Episode: 225, Total score (averaged over agents): 12.432999722100794\n",
      "Episode: 250, Total score (averaged over agents): 12.700999716110527\n",
      "Episode: 275, Total score (averaged over agents): 12.602499718312174\n",
      "Episode: 300, Total score (averaged over agents): 14.002499687019736\n",
      "Episode: 325, Total score (averaged over agents): 14.637999672815203\n",
      "Episode: 350, Total score (averaged over agents): 14.052999685890972\n",
      "Episode: 375, Total score (averaged over agents): 15.249499659147114\n",
      "Episode: 400, Total score (averaged over agents): 14.397499678190798\n",
      "Episode: 425, Total score (averaged over agents): 15.193999660387636\n",
      "Episode: 450, Total score (averaged over agents): 15.65699965003878\n",
      "Episode: 475, Total score (averaged over agents): 16.72999962605536\n",
      "Episode: 500, Total score (averaged over agents): 17.086999618075787\n"
     ]
    },
    {
     "data": {
      "image/png": "[encoded data removed]",
      "text/plain": [
       "<Figure size 432x288 with 1 Axes>"
      ]
     },
     "metadata": {
      "needs_background": "light"
     },
     "output_type": "display_data"
    }
   ],
   "source": [
    "config = {}\n",
    "config['env'] = env\n",
    "config['print_every'] = 25\n",
    "config['plot_every'] = 10\n",
    "config['episodes'] = 500\n",
    "agent = Agent(config)\n",
    "env_utils.run(agent)\n",
    "torch.save(agent.policy.state_dict(), 'checkpoints/PPO-1.pth')"
   ]
  },
  {
   "cell_type": "code",
   "execution_count": 11,
   "metadata": {},
   "outputs": [],
   "source": [
    "config = {}\n",
    "config['env'] = env\n",
    "config['train_mode'] = False\n",
    "agent = Agent(config)\n",
    "checkpoint = torch.load('checkpoints/PPO-1.pth')\n",
    "agent.policy.load_state_dict(checkpoint)\n",
    "env_utils.run(agent)"
   ]
  },
  {
   "cell_type": "markdown",
   "metadata": {},
   "source": [
    "<img src=\"img/PPO-1.gif\" />"
   ]
  }
 ],
 "metadata": {
  "kernelspec": {
   "display_name": "Python 3",
   "language": "python",
   "name": "python3"
  },
  "language_info": {
   "codemirror_mode": {
    "name": "ipython",
    "version": 3
   },
   "file_extension": ".py",
   "mimetype": "text/x-python",
   "name": "python",
   "nbconvert_exporter": "python",
   "pygments_lexer": "ipython3",
   "version": "3.6.7"
  }
 },
 "nbformat": 4,
 "nbformat_minor": 2
}
