{
 "cells": [
  {
   "cell_type": "markdown",
   "metadata": {},
   "source": [
    "# Continuous Control\n",
    "\n",
    "---\n",
    "\n",
    "In this notebook, you will learn how to use the Unity ML-Agents environment for the second project of the [Deep Reinforcement Learning Nanodegree](https://www.udacity.com/course/deep-reinforcement-learning-nanodegree--nd893) program.\n",
    "\n",
    "### 1. Start the Environment\n",
    "\n",
    "We begin by importing the necessary packages.  If the code cell below returns an error, please revisit the project instructions to double-check that you have installed [Unity ML-Agents](https://github.com/Unity-Technologies/ml-agents/blob/master/docs/Installation.md) and [NumPy](http://www.numpy.org/)."
   ]
  },
  {
   "cell_type": "code",
   "execution_count": 1,
   "metadata": {},
   "outputs": [],
   "source": [
    "from unityagents import UnityEnvironment\n",
    "import numpy as np\n",
    "import torch\n",
    "from torch import nn\n",
    "import torch.nn.functional as F\n",
    "from collections import deque\n",
    "import random\n",
    "import torch.optim as optim\n",
    "from torchsummary import summary\n",
    "import matplotlib.pyplot as plt\n",
    "from itertools import accumulate\n",
    "from operator import itemgetter\n",
    "\n",
    "import env_utils"
   ]
  },
  {
   "cell_type": "markdown",
   "metadata": {},
   "source": [
    "Next, we will start the environment!  **_Before running the code cell below_**, change the `file_name` parameter to match the location of the Unity environment that you downloaded.\n",
    "\n",
    "- **Mac**: `\"path/to/Reacher.app\"`\n",
    "- **Windows** (x86): `\"path/to/Reacher_Windows_x86/Reacher.exe\"`\n",
    "- **Windows** (x86_64): `\"path/to/Reacher_Windows_x86_64/Reacher.exe\"`\n",
    "- **Linux** (x86): `\"path/to/Reacher_Linux/Reacher.x86\"`\n",
    "- **Linux** (x86_64): `\"path/to/Reacher_Linux/Reacher.x86_64\"`\n",
    "- **Linux** (x86, headless): `\"path/to/Reacher_Linux_NoVis/Reacher.x86\"`\n",
    "- **Linux** (x86_64, headless): `\"path/to/Reacher_Linux_NoVis/Reacher.x86_64\"`\n",
    "\n",
    "For instance, if you are using a Mac, then you downloaded `Reacher.app`.  If this file is in the same folder as the notebook, then the line below should appear as follows:\n",
    "```\n",
    "env = UnityEnvironment(file_name=\"Reacher.app\")\n",
    "```"
   ]
  },
  {
   "cell_type": "code",
   "execution_count": 2,
   "metadata": {},
   "outputs": [
    {
     "name": "stderr",
     "output_type": "stream",
     "text": [
      "INFO:unityagents:\n",
      "'Academy' started successfully!\n",
      "Unity Academy name: Academy\n",
      "        Number of Brains: 1\n",
      "        Number of External Brains : 1\n",
      "        Lesson number : 0\n",
      "        Reset Parameters :\n",
      "\t\tgoal_speed -> 1.0\n",
      "\t\tgoal_size -> 5.0\n",
      "Unity brain name: ReacherBrain\n",
      "        Number of Visual Observations (per agent): 0\n",
      "        Vector Observation space type: continuous\n",
      "        Vector Observation space size (per agent): 33\n",
      "        Number of stacked Vector Observation: 1\n",
      "        Vector Action space type: continuous\n",
      "        Vector Action space size (per agent): 4\n",
      "        Vector Action descriptions: , , , \n"
     ]
    }
   ],
   "source": [
    "env = UnityEnvironment(file_name=\"Reacher.app\", no_graphics=False)"
   ]
  },
  {
   "cell_type": "markdown",
   "metadata": {},
   "source": [
    "Environments contain **_brains_** which are responsible for deciding the actions of their associated agents. Here we check for the first brain available, and set it as the default brain we will be controlling from Python."
   ]
  },
  {
   "cell_type": "code",
   "execution_count": 4,
   "metadata": {},
   "outputs": [],
   "source": [
    "# get the default brain\n",
    "brain_name = env.brain_names[0]\n",
    "brain = env.brains[brain_name]"
   ]
  },
  {
   "cell_type": "markdown",
   "metadata": {},
   "source": [
    "### 2. Examine the State and Action Spaces\n",
    "\n",
    "In this environment, a double-jointed arm can move to target locations. A reward of `+0.1` is provided for each step that the agent's hand is in the goal location. Thus, the goal of your agent is to maintain its position at the target location for as many time steps as possible.\n",
    "\n",
    "The observation space consists of `33` variables corresponding to position, rotation, velocity, and angular velocities of the arm.  Each action is a vector with four numbers, corresponding to torque applicable to two joints.  Every entry in the action vector must be a number between `-1` and `1`.\n",
    "\n",
    "Run the code cell below to print some information about the environment."
   ]
  },
  {
   "cell_type": "code",
   "execution_count": 5,
   "metadata": {},
   "outputs": [
    {
     "name": "stdout",
     "output_type": "stream",
     "text": [
      "Number of agents: 20\n",
      "Size of each action: 4\n",
      "There are 20 agents. Each observes a state with length: 33\n",
      "The state for the first agent looks like: [ 0.00000000e+00 -4.00000000e+00  0.00000000e+00  1.00000000e+00\n",
      " -0.00000000e+00 -0.00000000e+00 -4.37113883e-08  0.00000000e+00\n",
      "  0.00000000e+00  0.00000000e+00  0.00000000e+00  0.00000000e+00\n",
      "  0.00000000e+00  0.00000000e+00 -1.00000000e+01  0.00000000e+00\n",
      "  1.00000000e+00 -0.00000000e+00 -0.00000000e+00 -4.37113883e-08\n",
      "  0.00000000e+00  0.00000000e+00  0.00000000e+00  0.00000000e+00\n",
      "  0.00000000e+00  0.00000000e+00  7.90150833e+00 -1.00000000e+00\n",
      "  1.25147629e+00  0.00000000e+00  1.00000000e+00  0.00000000e+00\n",
      " -5.22214413e-01]\n"
     ]
    }
   ],
   "source": [
    "# reset the environment\n",
    "env_info = env.reset(train_mode=True)[brain_name]\n",
    "\n",
    "# number of agents\n",
    "num_agents = len(env_info.agents)\n",
    "print('Number of agents:', num_agents)\n",
    "\n",
    "# size of each action\n",
    "action_size = brain.vector_action_space_size\n",
    "print('Size of each action:', action_size)\n",
    "\n",
    "# examine the state space \n",
    "states = env_info.vector_observations\n",
    "state_size = states.shape[1]\n",
    "print('There are {} agents. Each observes a state with length: {}'.format(states.shape[0], state_size))\n",
    "print('The state for the first agent looks like:', states[0])"
   ]
  },
  {
   "cell_type": "markdown",
   "metadata": {},
   "source": [
    "### 3. Take Random Actions in the Environment\n",
    "\n",
    "In the next code cell, you will learn how to use the Python API to control the agent and receive feedback from the environment.\n",
    "\n",
    "Once this cell is executed, you will watch the agent's performance, if it selects an action at random with each time step.  A window should pop up that allows you to observe the agent, as it moves through the environment.  \n",
    "\n",
    "Of course, as part of the project, you'll have to change the code so that the agent is able to use its experience to gradually choose better actions when interacting with the environment!"
   ]
  },
  {
   "cell_type": "code",
   "execution_count": 9,
   "metadata": {},
   "outputs": [
    {
     "name": "stdout",
     "output_type": "stream",
     "text": [
      "Total score (averaged over agents) this episode: 0.12099999729543924\n"
     ]
    }
   ],
   "source": [
    "env_info = env.reset(train_mode=False)[brain_name]     # reset the environment    \n",
    "states = env_info.vector_observations                  # get the current state (for each agent)\n",
    "scores = np.zeros(num_agents)                          # initialize the score (for each agent)\n",
    "while True:\n",
    "    actions = np.random.randn(num_agents, action_size) # select an action (for each agent)\n",
    "    actions = np.clip(actions, -1, 1)                  # all actions between -1 and 1\n",
    "    env_info = env.step(actions)[brain_name]           # send all actions to tne environment\n",
    "    next_states = env_info.vector_observations         # get next state (for each agent)\n",
    "    rewards = env_info.rewards                         # get reward (for each agent)\n",
    "    dones = env_info.local_done                        # see if episode finished\n",
    "    scores += env_info.rewards                         # update the score (for each agent)\n",
    "    states = next_states                               # roll over states to next time step\n",
    "    if np.any(dones):                                  # exit loop if episode finished\n",
    "        break\n",
    "print('Total score (averaged over agents) this episode: {}'.format(np.mean(scores)))"
   ]
  },
  {
   "cell_type": "markdown",
   "metadata": {},
   "source": [
    "### 4. Define the Network and Agent"
   ]
  },
  {
   "cell_type": "code",
   "execution_count": 8,
   "metadata": {},
   "outputs": [],
   "source": [
    "class SubNetwork(nn.Module):\n",
    "\n",
    "    def __init__(self, input_size, output_size, hidden_layers):\n",
    "        super().__init__()\n",
    "        self.layers = nn.ModuleList([nn.Linear(input_size, hidden_layers[0])])\n",
    "        self.layers.extend([nn.Linear(i, o) for i, o in zip(hidden_layers[:-1], hidden_layers[1:])])\n",
    "        self.output = nn.Linear(hidden_layers[-1], output_size)\n",
    "\n",
    "    def forward(self, x, action=None):\n",
    "        for i, layer in enumerate(self.layers):\n",
    "            x = F.elu(layer(x))\n",
    "        return self.output(x)\n",
    "\n",
    "class Network(nn.Module):\n",
    "    def __init__(self, input_size, output_size, hidden_layers):\n",
    "        super().__init__()\n",
    "        self.actor = SubNetwork(input_size, output_size, hidden_layers)\n",
    "        self.critic = SubNetwork(input_size, 1, hidden_layers)\n",
    "        self.std = nn.Parameter(torch.zeros(output_size))\n",
    "\n",
    "    def forward(self, state):\n",
    "        values = self.critic(state)\n",
    "        x = self.actor(state)\n",
    "        mean = torch.tanh(x)\n",
    "        dist = torch.distributions.Normal(mean, F.softplus(self.std))\n",
    "        return {'dist': dist, 'values': values}\n",
    "\n",
    "class Agent():\n",
    "    \n",
    "    def __init__(self, config):\n",
    "        self.config = config\n",
    "        self.gamma = 0.99\n",
    "        self.tau=0.95\n",
    "        self.beta = 0.01\n",
    "        self.beta_decay = 0.995\n",
    "        self.epsilon = 0.1\n",
    "        self.sgd_epoch = 8\n",
    "        self.network = Network(state_size, action_size, [64, 64])\n",
    "        self.optimizer = optim.Adam(self.network.parameters(), lr=5e-4)\n",
    "        self.storage = []\n",
    "        self.value_loss = []\n",
    "        self.policy_loss = []\n",
    "\n",
    "    def act(self, states):\n",
    "        prediction = self.network(torch.from_numpy(states).float())\n",
    "        dist = prediction['dist']\n",
    "        values = prediction['values']\n",
    "\n",
    "        actions = dist.mean\n",
    "        if config.get('train_mode', True):\n",
    "            actions = dist.sample()\n",
    "        log_probs = dist.log_prob(actions)\n",
    "\n",
    "        return {'log_probs': log_probs, 'actions': actions, 'values': values}\n",
    "    \n",
    "    def step(self, states, actions_info, rewards, next_states, dones):\n",
    "        log_probs, actions, values = itemgetter('log_probs', 'actions', 'values')(actions_info)\n",
    "\n",
    "        self.storage.append((states, actions, rewards, next_states, dones, values, log_probs))\n",
    "        if np.any(dones):\n",
    "            self.learn()\n",
    "\n",
    "    def learn(self):\n",
    "        to_numpy = lambda x: x.detach().numpy()\n",
    "        tensor = lambda x: torch.from_numpy(np.asarray(x)).float()\n",
    "\n",
    "        states, actions, rewards, next_states, dones, values, log_probs = zip(*self.storage)\n",
    "        rewards = torch.tensor(np.asarray(rewards)).float().unsqueeze(2)\n",
    "        dones = torch.tensor(np.asarray(dones).astype(np.uint8)).float().unsqueeze(2)\n",
    "        states = tensor(states)\n",
    "        actions = torch.stack(actions)\n",
    "        values = torch.stack(values)\n",
    "        log_probs = torch.stack(log_probs).detach()\n",
    "\n",
    "        advantages = []\n",
    "        returns = []\n",
    "\n",
    "        prediction_next = self.network(tensor(next_states[-1]))\n",
    "        next_values = itemgetter('values')(prediction_next).unsqueeze(0)\n",
    "        v = torch.cat([values, next_values])\n",
    "\n",
    "        A = tensor(np.zeros((20, 1)))\n",
    "        G = next_values\n",
    "        for t in reversed(range(len(rewards))):\n",
    "            G = rewards[t] + self.gamma * (1 - dones[t]) * G\n",
    "            td_error = rewards[t] + self.gamma * v[t + 1] * (1 - dones[t]) - v[t]\n",
    "            A = td_error + self.gamma * self.tau * (1 - dones[t]) * A\n",
    "            advantages.insert(0, A.detach())\n",
    "            returns.insert(0, G.detach())\n",
    "\n",
    "        advantages = torch.stack(advantages)\n",
    "        advantages = (advantages - advantages.mean()) / advantages.std()\n",
    "        returns = torch.stack(returns)\n",
    "\n",
    "        tmp_policy_loss = []\n",
    "        tmp_value_loss = []\n",
    "        for e in range(self.sgd_epoch):\n",
    "\n",
    "            prediction = self.network(states)\n",
    "            dist, values = itemgetter('dist', 'values')(prediction)\n",
    "            new_log_probs = dist.log_prob(actions)\n",
    "\n",
    "            ratio = (new_log_probs - log_probs).exp()\n",
    "\n",
    "            obj = ratio * advantages\n",
    "            obj_clipped = ratio.clamp(1.0 - self.epsilon, 1.0 + self.epsilon) * advantages\n",
    "\n",
    "            policy_loss = -torch.min(obj, obj_clipped).mean() - \\\n",
    "                self.beta * dist.entropy().mean()\n",
    "\n",
    "            value_loss = 0.5 * (values - returns).pow(2).mean()\n",
    "\n",
    "            self.optimizer.zero_grad()\n",
    "            (policy_loss + value_loss).backward()\n",
    "            self.optimizer.step()\n",
    "\n",
    "            tmp_policy_loss.append(to_numpy(policy_loss))\n",
    "            tmp_value_loss.append(to_numpy(value_loss))\n",
    "\n",
    "        self.beta *= self.beta_decay\n",
    "        self.storage = []\n",
    "\n",
    "        self.policy_loss.append(np.mean(tmp_policy_loss))\n",
    "        self.value_loss.append(np.mean(tmp_value_loss))"
   ]
  },
  {
   "cell_type": "markdown",
   "metadata": {},
   "source": [
    "### 5. Training the Agent"
   ]
  },
  {
   "cell_type": "code",
   "execution_count": 11,
   "metadata": {},
   "outputs": [
    {
     "name": "stderr",
     "output_type": "stream",
     "text": [
      "Episode: 500 of 500 Score:   38.6 Time:  0:54:09                               \n"
     ]
    },
    {
     "name": "stdout",
     "output_type": "stream",
     "text": [
      "Solved in 244 episodes!\n"
     ]
    },
    {
     "data": {
      "image/png": "[encoded data removed]",
      "text/plain": [
       "<Figure size 1296x324 with 3 Axes>"
      ]
     },
     "metadata": {
      "needs_background": "light"
     },
     "output_type": "display_data"
    }
   ],
   "source": [
    "config = {}\n",
    "config['env'] = env\n",
    "config['episodes'] = 500\n",
    "agent = Agent(config)\n",
    "scores = env_utils.run(agent)\n",
    "\n",
    "# plot results\n",
    "f, (ax1, ax2, ax3) = plt.subplots(1, 3, figsize=(18, 4.5))\n",
    "env_utils.plot_episodes(scores, 'Score', axis=ax1)\n",
    "env_utils.plot_episodes(agent.policy_loss, 'Policy Loss', axis=ax2)\n",
    "env_utils.plot_episodes(agent.value_loss, 'Value Loss', axis=ax3)\n",
    "\n",
    "# Get episode where agent first averaged over 30 for past 100 episodes\n",
    "avg_scores = env_utils.get_rolling_avg(scores, n=100)\n",
    "episode = np.argmax(np.asarray(avg_scores) > 30)\n",
    "print(\"Solved in {} episodes!\".format(episode))\n",
    "\n",
    "# save checkpoint\n",
    "torch.save(agent.network.state_dict(), 'checkpoints/Agent.pth')"
   ]
  }
 ],
 "metadata": {
  "kernelspec": {
   "display_name": "Python Deep Reinforcement Learning",
   "language": "python",
   "name": "drlnd"
  },
  "language_info": {
   "codemirror_mode": {
    "name": "ipython",
    "version": 3
   },
   "file_extension": ".py",
   "mimetype": "text/x-python",
   "name": "python",
   "nbconvert_exporter": "python",
   "pygments_lexer": "ipython3",
   "version": "3.6.7"
  }
 },
 "nbformat": 4,
 "nbformat_minor": 2
}
